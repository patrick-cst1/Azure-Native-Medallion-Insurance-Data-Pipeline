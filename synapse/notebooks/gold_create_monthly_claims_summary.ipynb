{
 "cells": [
  {
   "cell_type": "markdown",
   "metadata": {},
   "source": [
    "# Gold Layer: Create Monthly Claims Summary\n",
    "Azure Synapse Analytics - Medallion Architecture\n",
    "\n",
    "Pattern: Time-series aggregations for trend analysis"
   ]
  },
  {
   "cell_type": "code",
   "execution_count": null,
   "metadata": {},
   "outputs": [],
   "source": [
    "from pyspark.sql import SparkSession\n",
    "from pyspark.sql.functions import (\n",
    "    col, count, sum as spark_sum, avg, max as spark_max, min as spark_min,\n",
    "    year, month, date_trunc, current_timestamp\n",
    ")\n",
    "import logging"
   ]
  },
  {
   "cell_type": "code",
   "execution_count": null,
   "metadata": {},
   "outputs": [],
   "source": [
    "# Configuration - ADLS Gen2 paths\n",
    "STORAGE_ACCOUNT = \"<storage-account-name>\"\n",
    "TABLES_ROOT = f\"abfss://tables@{STORAGE_ACCOUNT}.dfs.core.windows.net\"\n",
    "\n",
    "SILVER_CLAIMS_PATH = f\"{TABLES_ROOT}/silver/silver_claims\"\n",
    "GOLD_MONTHLY_PATH = f\"{TABLES_ROOT}/gold/gold_monthly_claims_summary\"\n",
    "\n",
    "logging.basicConfig(level=logging.INFO)\n",
    "logger = logging.getLogger(__name__)"
   ]
  },
  {
   "cell_type": "code",
   "execution_count": null,
   "metadata": {},
   "outputs": [],
   "source": [
    "def main():\n",
    "    spark = SparkSession.builder.getOrCreate()\n",
    "\n",
    "    try:\n",
    "        logger.info(f\"Reading from {SILVER_CLAIMS_PATH}\")\n",
    "        df_claims = spark.read.format(\"delta\").load(SILVER_CLAIMS_PATH)\n",
    "\n",
    "        record_count = df_claims.count()\n",
    "        logger.info(f\"Read {record_count} claims from Silver\")\n",
    "\n",
    "        # Filter only current records (SCD Type 2)\n",
    "        df_current = df_claims.filter(col(\"is_current\") == True)\n",
    "\n",
    "        # Add year-month columns for aggregation\n",
    "        df_with_period = df_current \\\n",
    "            .withColumn(\"claim_year\", year(col(\"claim_date\"))) \\\n",
    "            .withColumn(\"claim_month\", month(col(\"claim_date\"))) \\\n",
    "            .withColumn(\"claim_year_month\", date_trunc(\"month\", col(\"claim_date\")))\n",
    "\n",
    "        # Monthly aggregations\n",
    "        monthly_summary = df_with_period.groupBy(\"claim_year_month\", \"claim_year\", \"claim_month\").agg(\n",
    "            count(\"claim_id\").alias(\"total_claims\"),\n",
    "            spark_sum(\"claim_amount\").alias(\"total_claim_amount\"),\n",
    "            avg(\"claim_amount\").alias(\"avg_claim_amount\"),\n",
    "            spark_max(\"claim_amount\").alias(\"max_claim_amount\"),\n",
    "            spark_min(\"claim_amount\").alias(\"min_claim_amount\")\n",
    "        )\n",
    "\n",
    "        # Add metadata\n",
    "        monthly_summary = monthly_summary \\\n",
    "            .withColumn(\"feature_timestamp\", current_timestamp()) \\\n",
    "            .orderBy(\"claim_year_month\")\n",
    "\n",
    "        summary_count = monthly_summary.count()\n",
    "        logger.info(f\"Created monthly summary for {summary_count} time periods\")\n",
    "\n",
    "        # Write to Gold\n",
    "        logger.info(f\"Writing to {GOLD_MONTHLY_PATH}\")\n",
    "        monthly_summary.write \\\n",
    "            .format(\"delta\") \\\n",
    "            .mode(\"overwrite\") \\\n",
    "            .option(\"description\", \"Gold layer: Monthly claims summary for time-series analysis\") \\\n",
    "            .save(GOLD_MONTHLY_PATH)\n",
    "\n",
    "        logger.info(\"✓ Monthly claims summary creation completed\")\n",
    "\n",
    "    except Exception as e:\n",
    "        logger.error(f\"✗ Failed to create monthly claims summary: {str(e)}\")\n",
    "        raise"
   ]
  },
  {
   "cell_type": "code",
   "execution_count": null,
   "metadata": {},
   "outputs": [],
   "source": [
    "main()"
   ]
  }
 ],
 "metadata": {
  "kernelspec": {
   "display_name": "Synapse PySpark",
   "name": "synapse_pyspark"
  },
  "language_info": {
   "name": "python"
  }
 },
 "nbformat": 4,
 "nbformat_minor": 2
}
