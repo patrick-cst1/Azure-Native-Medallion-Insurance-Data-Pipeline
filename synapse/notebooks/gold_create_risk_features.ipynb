{
  "cells": [
    {
      "cell_type": "markdown",
      "metadata": {},
      "source": [
        "# Gold Layer: Create Risk Assessment Features\n",
        "Azure Synapse Analytics - Medallion Architecture\n",
        "\n",
        "**Pattern**: Risk scoring based on claims history"
      ]
    },
    {
      "cell_type": "code",
      "execution_count": null,
      "metadata": {},
      "outputs": [],
      "source": [
        "from pyspark.sql import SparkSession\n",
        "from pyspark.sql.functions import col, when, coalesce, lit, current_timestamp\n",
        "import logging"
      ]
    },
    {
      "cell_type": "code",
      "execution_count": null,
      "metadata": {},
      "outputs": [],
      "source": [
        "# Configuration - ADLS Gen2 paths\n",
        "STORAGE_ACCOUNT = \"<storage-account-name>\"\n",
        "TABLES_ROOT = f\"abfss://tables@{STORAGE_ACCOUNT}.dfs.core.windows.net\"\n",
        "\n",
        "SILVER_POLICIES_PATH = f\"{TABLES_ROOT}/silver/silver_policies\"\n",
        "GOLD_CLAIMS_FEATURES_PATH = f\"{TABLES_ROOT}/gold/gold_claims_features\"\n",
        "GOLD_RISK_PATH = f\"{TABLES_ROOT}/gold/gold_risk_features\"\n",
        "\n",
        "logging.basicConfig(level=logging.INFO)\n",
        "logger = logging.getLogger(__name__)"
      ]
    },
    {
      "cell_type": "code",
      "execution_count": null,
      "metadata": {},
      "outputs": [],
      "source": [
        "def main():\n",
        "    spark = SparkSession.builder.getOrCreate()\n",
        "    \n",
        "    try:\n",
        "        logger.info(\"Reading policies and claims features\")\n",
        "        df_policies = spark.read.format(\"delta\").load(SILVER_POLICIES_PATH)\n",
        "        df_claims_features = spark.read.format(\"delta\").load(GOLD_CLAIMS_FEATURES_PATH)\n",
        "        \n",
        "        logger.info(f\"Read {df_policies.count()} policies from Silver layer\")\n",
        "        \n",
        "        # Join claims features with policies\n",
        "        risk_features = df_policies.join(df_claims_features, on=\"customer_id\", how=\"left\")\n",
        "        \n",
        "        # Calculate risk components first\n",
        "        risk_features = risk_features \\\n",
        "            .withColumn(\"claims_risk_component\", \n",
        "                       (coalesce(col(\"total_claims\"), lit(0)) * 10).cast(\"double\")) \\\n",
        "            .withColumn(\"amount_risk_component\",\n",
        "                       when(col(\"total_claim_amount\") > 50000, 40)\n",
        "                       .when(col(\"total_claim_amount\") > 10000, 20)\n",
        "                       .otherwise(0).cast(\"double\"))\n",
        "        \n",
        "        # Calculate overall risk score (0-100 scale)\n",
        "        risk_features = risk_features \\\n",
        "            .withColumn(\"overall_risk_score\", \n",
        "                       when((lit(30) + \n",
        "                            col(\"claims_risk_component\") + \n",
        "                            col(\"amount_risk_component\")) > 100, 100)\n",
        "                       .otherwise(lit(30) + \n",
        "                                 col(\"claims_risk_component\") + \n",
        "                                 col(\"amount_risk_component\"))\n",
        "                       .cast(\"double\")) \\\n",
        "            .withColumn(\"feature_timestamp\", current_timestamp()) \\\n",
        "            .drop(\"claims_risk_component\", \"amount_risk_component\")\n",
        "        \n",
        "        feature_count = risk_features.count()\n",
        "        logger.info(f\"Created risk features for {feature_count} policies\")\n",
        "        \n",
        "        # Write to Gold\n",
        "        logger.info(f\"Writing to {GOLD_RISK_PATH}\")\n",
        "        risk_features.write \\\n",
        "            .format(\"delta\") \\\n",
        "            .mode(\"overwrite\") \\\n",
        "            .option(\"description\", \"Gold layer: Risk assessment features for ML\") \\\n",
        "            .save(GOLD_RISK_PATH)\n",
        "        \n",
        "        logger.info(\"✓ Risk features creation completed\")\n",
        "        \n",
        "    except Exception as e:\n",
        "        logger.error(f\"✗ Failed to create risk features: {str(e)}\")\n",
        "        raise"
      ]
    },
    {
      "cell_type": "code",
      "execution_count": null,
      "metadata": {},
      "outputs": [],
      "source": [
        "main()"
      ]
    }
  ],
  "metadata": {
    "kernelspec": {
      "display_name": "Synapse PySpark",
      "name": "synapse_pyspark"
    },
    "language_info": {
      "name": "python"
    }
  },
  "nbformat": 4,
  "nbformat_minor": 2
}
